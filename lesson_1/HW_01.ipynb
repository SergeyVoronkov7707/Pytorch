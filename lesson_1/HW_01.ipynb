{
  "cells": [
    {
      "cell_type": "code",
      "execution_count": null,
      "metadata": {
        "id": "LmBGZ3qnl2zT"
      },
      "outputs": [],
      "source": [
        "import torch\n",
        "import numpy as np\n"
      ]
    },
    {
      "cell_type": "code",
      "execution_count": null,
      "metadata": {
        "id": "zDyoQzy7l2zZ"
      },
      "outputs": [],
      "source": [
        "# Создайте случайный FloatTensor размера 3x4x5"
      ]
    },
    {
      "cell_type": "code",
      "source": [
        "def print_tens_info(tensor):\n",
        "    print(\"X :\\n%s\\n\" % tensor)\n",
        "    print(\"X количество измерений:\\n%s\\n\" % tensor.dim())\n",
        "    print(\"X размеры : \",  tensor.size())\n",
        "    print(\"X тип : %s\\n\" % (tensor.type()))"
      ],
      "metadata": {
        "id": "yO03ASCOl6Ad"
      },
      "execution_count": null,
      "outputs": []
    },
    {
      "cell_type": "code",
      "source": [
        "x = torch.arange(0,60).view(3,4,5).type(torch.float32)"
      ],
      "metadata": {
        "id": "o-3ZmuJZm_d8"
      },
      "execution_count": null,
      "outputs": []
    },
    {
      "cell_type": "code",
      "source": [
        "print_tens_info(x)"
      ],
      "metadata": {
        "colab": {
          "base_uri": "https://localhost:8080/"
        },
        "id": "c1jsU7c7nC2B",
        "outputId": "91e04633-0f01-4c4d-879b-fb3a15ba12fb"
      },
      "execution_count": null,
      "outputs": [
        {
          "output_type": "stream",
          "name": "stdout",
          "text": [
            "X :\n",
            "tensor([[[ 0.,  1.,  2.,  3.,  4.],\n",
            "         [ 5.,  6.,  7.,  8.,  9.],\n",
            "         [10., 11., 12., 13., 14.],\n",
            "         [15., 16., 17., 18., 19.]],\n",
            "\n",
            "        [[20., 21., 22., 23., 24.],\n",
            "         [25., 26., 27., 28., 29.],\n",
            "         [30., 31., 32., 33., 34.],\n",
            "         [35., 36., 37., 38., 39.]],\n",
            "\n",
            "        [[40., 41., 42., 43., 44.],\n",
            "         [45., 46., 47., 48., 49.],\n",
            "         [50., 51., 52., 53., 54.],\n",
            "         [55., 56., 57., 58., 59.]]])\n",
            "\n",
            "X количество измерений:\n",
            "3\n",
            "\n",
            "X размеры :  torch.Size([3, 4, 5])\n",
            "X тип : torch.FloatTensor\n",
            "\n"
          ]
        }
      ]
    },
    {
      "cell_type": "code",
      "execution_count": null,
      "metadata": {
        "id": "CqM8ee-xl2za"
      },
      "outputs": [],
      "source": [
        "# Выведите его форму (shape)"
      ]
    },
    {
      "cell_type": "code",
      "source": [
        "x.shape"
      ],
      "metadata": {
        "colab": {
          "base_uri": "https://localhost:8080/"
        },
        "id": "UaUqeNOroSzZ",
        "outputId": "51f3728c-159f-43ad-bc00-18c3717059e2"
      },
      "execution_count": null,
      "outputs": [
        {
          "output_type": "execute_result",
          "data": {
            "text/plain": [
              "torch.Size([3, 4, 5])"
            ]
          },
          "metadata": {},
          "execution_count": 282
        }
      ]
    },
    {
      "cell_type": "code",
      "execution_count": null,
      "metadata": {
        "id": "aLVYZwRKl2zb"
      },
      "outputs": [],
      "source": [
        "# Приведите его к форме 6 X 10"
      ]
    },
    {
      "cell_type": "code",
      "source": [
        "xx = x.view(6,10)\n",
        "xx"
      ],
      "metadata": {
        "colab": {
          "base_uri": "https://localhost:8080/"
        },
        "id": "zi920SUborDB",
        "outputId": "ee08a62e-d83c-4341-c3b5-22ce68461fba"
      },
      "execution_count": null,
      "outputs": [
        {
          "output_type": "execute_result",
          "data": {
            "text/plain": [
              "tensor([[ 0.,  1.,  2.,  3.,  4.,  5.,  6.,  7.,  8.,  9.],\n",
              "        [10., 11., 12., 13., 14., 15., 16., 17., 18., 19.],\n",
              "        [20., 21., 22., 23., 24., 25., 26., 27., 28., 29.],\n",
              "        [30., 31., 32., 33., 34., 35., 36., 37., 38., 39.],\n",
              "        [40., 41., 42., 43., 44., 45., 46., 47., 48., 49.],\n",
              "        [50., 51., 52., 53., 54., 55., 56., 57., 58., 59.]])"
            ]
          },
          "metadata": {},
          "execution_count": 284
        }
      ]
    },
    {
      "cell_type": "code",
      "execution_count": null,
      "metadata": {
        "id": "TXQtj0kol2zb"
      },
      "outputs": [],
      "source": [
        "# Умножьте его на вектор [1, 4, 2, 2, 1] поэлементно"
      ]
    },
    {
      "cell_type": "code",
      "source": [
        "a = torch.FloatTensor([1, 4, 2, 2, 1])\n",
        "x * a"
      ],
      "metadata": {
        "colab": {
          "base_uri": "https://localhost:8080/"
        },
        "id": "DYtqXQ2yX5H_",
        "outputId": "2729444b-c9d0-4be0-9f00-109aff54f1ff"
      },
      "execution_count": null,
      "outputs": [
        {
          "output_type": "execute_result",
          "data": {
            "text/plain": [
              "tensor([[[  0.,   4.,   4.,   6.,   4.],\n",
              "         [  5.,  24.,  14.,  16.,   9.],\n",
              "         [ 10.,  44.,  24.,  26.,  14.],\n",
              "         [ 15.,  64.,  34.,  36.,  19.]],\n",
              "\n",
              "        [[ 20.,  84.,  44.,  46.,  24.],\n",
              "         [ 25., 104.,  54.,  56.,  29.],\n",
              "         [ 30., 124.,  64.,  66.,  34.],\n",
              "         [ 35., 144.,  74.,  76.,  39.]],\n",
              "\n",
              "        [[ 40., 164.,  84.,  86.,  44.],\n",
              "         [ 45., 184.,  94.,  96.,  49.],\n",
              "         [ 50., 204., 104., 106.,  54.],\n",
              "         [ 55., 224., 114., 116.,  59.]]])"
            ]
          },
          "metadata": {},
          "execution_count": 286
        }
      ]
    },
    {
      "cell_type": "code",
      "source": [
        "a = torch.FloatTensor([1, 4, 2, 2, 1])\n",
        "\n",
        "print(torch.mv(x[0],a))\n",
        "print(torch.mv(x[1],a))\n",
        "print(torch.mv(x[2],a))"
      ],
      "metadata": {
        "colab": {
          "base_uri": "https://localhost:8080/"
        },
        "id": "asimHIE6o6L2",
        "outputId": "74e037db-6f5f-473b-d779-c0cc91b82650"
      },
      "execution_count": null,
      "outputs": [
        {
          "output_type": "stream",
          "name": "stdout",
          "text": [
            "tensor([ 18.,  68., 118., 168.])\n",
            "tensor([218., 268., 318., 368.])\n",
            "tensor([418., 468., 518., 568.])\n"
          ]
        }
      ]
    },
    {
      "cell_type": "code",
      "execution_count": null,
      "metadata": {
        "id": "jlBBoWgsl2zc"
      },
      "outputs": [],
      "source": [
        "#Умножьте тензор матрично на себя, чтобы результат был размерности 6x6"
      ]
    },
    {
      "cell_type": "code",
      "source": [
        "print(torch.mm(xx,xx.T))"
      ],
      "metadata": {
        "colab": {
          "base_uri": "https://localhost:8080/"
        },
        "id": "YPsoEfUT-tqm",
        "outputId": "d1c00071-0420-488d-f98e-e865c8b9e901"
      },
      "execution_count": null,
      "outputs": [
        {
          "output_type": "stream",
          "name": "stdout",
          "text": [
            "tensor([[  285.,   735.,  1185.,  1635.,  2085.,  2535.],\n",
            "        [  735.,  2185.,  3635.,  5085.,  6535.,  7985.],\n",
            "        [ 1185.,  3635.,  6085.,  8535., 10985., 13435.],\n",
            "        [ 1635.,  5085.,  8535., 11985., 15435., 18885.],\n",
            "        [ 2085.,  6535., 10985., 15435., 19885., 24335.],\n",
            "        [ 2535.,  7985., 13435., 18885., 24335., 29785.]])\n"
          ]
        }
      ]
    },
    {
      "cell_type": "code",
      "execution_count": null,
      "metadata": {
        "id": "VRvF5-zel2zd"
      },
      "outputs": [],
      "source": [
        "# Посчитайте производную функции y = x**3 + z - 75t в точке (1, 0.5, 2)"
      ]
    },
    {
      "cell_type": "code",
      "source": [
        "from torch.autograd import Variable"
      ],
      "metadata": {
        "id": "iE9scwX5BHtj"
      },
      "execution_count": null,
      "outputs": []
    },
    {
      "cell_type": "code",
      "source": [
        "v = Variable(torch.from_numpy(np.array([1, 0.5, 2], dtype=\"float32\")))\n",
        "x = Variable(v, requires_grad = True)\n",
        "print_tens_info(x)"
      ],
      "metadata": {
        "colab": {
          "base_uri": "https://localhost:8080/"
        },
        "id": "ov4AnZfc-_2t",
        "outputId": "f3d1518b-e395-4af6-cba8-9e567f6e164c"
      },
      "execution_count": null,
      "outputs": [
        {
          "output_type": "stream",
          "name": "stdout",
          "text": [
            "X :\n",
            "tensor([1.0000, 0.5000, 2.0000], requires_grad=True)\n",
            "\n",
            "X количество измерений:\n",
            "1\n",
            "\n",
            "X размеры :  torch.Size([3])\n",
            "X тип : torch.FloatTensor\n",
            "\n"
          ]
        }
      ]
    },
    {
      "cell_type": "code",
      "source": [
        "print(x.grad)"
      ],
      "metadata": {
        "colab": {
          "base_uri": "https://localhost:8080/"
        },
        "id": "LBPVsfnRDfaz",
        "outputId": "7c990850-482e-4a93-b480-602a61addbbd"
      },
      "execution_count": null,
      "outputs": [
        {
          "output_type": "stream",
          "name": "stdout",
          "text": [
            "None\n"
          ]
        }
      ]
    },
    {
      "cell_type": "code",
      "source": [
        "y = x**3 + x- 75*x"
      ],
      "metadata": {
        "id": "A6y5fhPwDo_D"
      },
      "execution_count": null,
      "outputs": []
    },
    {
      "cell_type": "code",
      "source": [
        "y.backward(x)"
      ],
      "metadata": {
        "id": "_WJkCCAyFRcW"
      },
      "execution_count": null,
      "outputs": []
    },
    {
      "cell_type": "code",
      "source": [
        "print(x.grad)"
      ],
      "metadata": {
        "colab": {
          "base_uri": "https://localhost:8080/"
        },
        "id": "GQZy57fIHAYu",
        "outputId": "e47d646b-b103-4d2a-82f1-32f7b7aea521"
      },
      "execution_count": null,
      "outputs": [
        {
          "output_type": "stream",
          "name": "stdout",
          "text": [
            "tensor([ -71.0000,  -36.6250, -124.0000])\n"
          ]
        }
      ]
    },
    {
      "cell_type": "code",
      "execution_count": null,
      "metadata": {
        "id": "-WobJ1Xll2ze"
      },
      "outputs": [],
      "source": [
        "# Создайте единичный тензор размера 5x6"
      ]
    },
    {
      "cell_type": "code",
      "source": [
        "# torch.ones(5,6)\n",
        "x = Variable(torch.ones(5,6), requires_grad=True)\n",
        "print_tens_info(x)"
      ],
      "metadata": {
        "colab": {
          "base_uri": "https://localhost:8080/"
        },
        "id": "qcbEl29AHtCU",
        "outputId": "07fde812-286d-40b5-92be-a9ce427c79a6"
      },
      "execution_count": null,
      "outputs": [
        {
          "output_type": "stream",
          "name": "stdout",
          "text": [
            "X :\n",
            "tensor([[1., 1., 1., 1., 1., 1.],\n",
            "        [1., 1., 1., 1., 1., 1.],\n",
            "        [1., 1., 1., 1., 1., 1.],\n",
            "        [1., 1., 1., 1., 1., 1.],\n",
            "        [1., 1., 1., 1., 1., 1.]], requires_grad=True)\n",
            "\n",
            "X количество измерений:\n",
            "2\n",
            "\n",
            "X размеры :  torch.Size([5, 6])\n",
            "X тип : torch.FloatTensor\n",
            "\n"
          ]
        }
      ]
    },
    {
      "cell_type": "code",
      "execution_count": null,
      "metadata": {
        "id": "i7w227XNl2zf"
      },
      "outputs": [],
      "source": [
        "# Переведите его в формат numpy"
      ]
    },
    {
      "cell_type": "code",
      "source": [
        "# xa = x.numpy()\n",
        "xa = x.detach().numpy()\n",
        "print(type(xa))\n",
        "print(xa)"
      ],
      "metadata": {
        "colab": {
          "base_uri": "https://localhost:8080/"
        },
        "id": "2NeTSfOmICui",
        "outputId": "68630454-c941-495e-ba02-8c8e19e98f53"
      },
      "execution_count": null,
      "outputs": [
        {
          "output_type": "stream",
          "name": "stdout",
          "text": [
            "<class 'numpy.ndarray'>\n",
            "[[1. 1. 1. 1. 1. 1.]\n",
            " [1. 1. 1. 1. 1. 1.]\n",
            " [1. 1. 1. 1. 1. 1.]\n",
            " [1. 1. 1. 1. 1. 1.]\n",
            " [1. 1. 1. 1. 1. 1.]]\n"
          ]
        }
      ]
    },
    {
      "cell_type": "code",
      "execution_count": null,
      "metadata": {
        "id": "OsFKQe0ll2zg"
      },
      "outputs": [],
      "source": [
        "# Давайте теперь пооптимизируем: возьмите функцию y = x**w1 - 2 * x**2 + 5\n",
        "# Посчитайте "
      ]
    },
    {
      "cell_type": "code",
      "source": [
        "from torch import nn \n",
        "from torch import optim"
      ],
      "metadata": {
        "id": "W-fATtCrOLjd"
      },
      "execution_count": null,
      "outputs": []
    },
    {
      "cell_type": "code",
      "source": [
        "linear = nn.Linear(6,5, bias=True)\n"
      ],
      "metadata": {
        "id": "sX2KbikuOMM2"
      },
      "execution_count": null,
      "outputs": []
    },
    {
      "cell_type": "code",
      "source": [
        "print ('w: ', linear.weight)\n",
        "print ('b: ', linear.bias)"
      ],
      "metadata": {
        "colab": {
          "base_uri": "https://localhost:8080/"
        },
        "id": "MFTEHjHPOYfV",
        "outputId": "816fe9bf-5cdb-493f-bd87-b7c1bace5aac"
      },
      "execution_count": null,
      "outputs": [
        {
          "output_type": "stream",
          "name": "stdout",
          "text": [
            "w:  Parameter containing:\n",
            "tensor([[-0.1129,  0.0189,  0.2024, -0.0260,  0.1211,  0.3760],\n",
            "        [-0.2163,  0.2257, -0.3940,  0.0936, -0.2161, -0.3231],\n",
            "        [-0.0043,  0.1368, -0.1738,  0.0466,  0.2290,  0.0283],\n",
            "        [-0.0658, -0.1550, -0.1657,  0.2981,  0.0845, -0.2331],\n",
            "        [-0.2391, -0.2676, -0.1670,  0.3814, -0.3206,  0.0161]],\n",
            "       requires_grad=True)\n",
            "b:  Parameter containing:\n",
            "tensor([-0.1915, -0.3689,  0.0805,  0.1289,  0.3049], requires_grad=True)\n"
          ]
        }
      ]
    },
    {
      "cell_type": "code",
      "source": [
        "w1 = linear.weight\n",
        "w1"
      ],
      "metadata": {
        "id": "7zAczwH7OY8z",
        "colab": {
          "base_uri": "https://localhost:8080/"
        },
        "outputId": "e6fe74bf-3a49-47d0-c4e2-d451e8cd517b"
      },
      "execution_count": null,
      "outputs": [
        {
          "output_type": "execute_result",
          "data": {
            "text/plain": [
              "Parameter containing:\n",
              "tensor([[-0.1129,  0.0189,  0.2024, -0.0260,  0.1211,  0.3760],\n",
              "        [-0.2163,  0.2257, -0.3940,  0.0936, -0.2161, -0.3231],\n",
              "        [-0.0043,  0.1368, -0.1738,  0.0466,  0.2290,  0.0283],\n",
              "        [-0.0658, -0.1550, -0.1657,  0.2981,  0.0845, -0.2331],\n",
              "        [-0.2391, -0.2676, -0.1670,  0.3814, -0.3206,  0.0161]],\n",
              "       requires_grad=True)"
            ]
          },
          "metadata": {},
          "execution_count": 305
        }
      ]
    },
    {
      "cell_type": "code",
      "source": [
        "y = x**w1 - 2 * x**2 + 5"
      ],
      "metadata": {
        "id": "PeZk_8VDOfD8"
      },
      "execution_count": null,
      "outputs": []
    },
    {
      "cell_type": "code",
      "source": [
        "print(x.grad)"
      ],
      "metadata": {
        "colab": {
          "base_uri": "https://localhost:8080/"
        },
        "id": "eHGniKOmOgs9",
        "outputId": "3e7b841a-fde5-4200-daf5-0f538f5e866a"
      },
      "execution_count": null,
      "outputs": [
        {
          "output_type": "stream",
          "name": "stdout",
          "text": [
            "None\n"
          ]
        }
      ]
    },
    {
      "cell_type": "code",
      "source": [
        "y.backward(x)"
      ],
      "metadata": {
        "id": "6ox3bvf5mEpG"
      },
      "execution_count": null,
      "outputs": []
    },
    {
      "cell_type": "code",
      "source": [
        "print(x.grad)"
      ],
      "metadata": {
        "colab": {
          "base_uri": "https://localhost:8080/"
        },
        "id": "9IQ70jG3mIDw",
        "outputId": "3cd016cc-5953-4220-d2a2-1e9bfa2902d6"
      },
      "execution_count": null,
      "outputs": [
        {
          "output_type": "stream",
          "name": "stdout",
          "text": [
            "tensor([[-4.1129, -3.9811, -3.7976, -4.0260, -3.8789, -3.6240],\n",
            "        [-4.2163, -3.7743, -4.3940, -3.9064, -4.2161, -4.3231],\n",
            "        [-4.0043, -3.8632, -4.1738, -3.9534, -3.7710, -3.9717],\n",
            "        [-4.0658, -4.1550, -4.1657, -3.7019, -3.9155, -4.2331],\n",
            "        [-4.2391, -4.2676, -4.1670, -3.6186, -4.3206, -3.9839]])\n"
          ]
        }
      ]
    },
    {
      "cell_type": "code",
      "source": [
        "x - 0.01 * x.grad"
      ],
      "metadata": {
        "colab": {
          "base_uri": "https://localhost:8080/"
        },
        "id": "l7Y83ngrmI3B",
        "outputId": "9e5f4144-c8fc-4439-e32f-1e938c2dfe23"
      },
      "execution_count": null,
      "outputs": [
        {
          "output_type": "execute_result",
          "data": {
            "text/plain": [
              "tensor([[1.0411, 1.0398, 1.0380, 1.0403, 1.0388, 1.0362],\n",
              "        [1.0422, 1.0377, 1.0439, 1.0391, 1.0422, 1.0432],\n",
              "        [1.0400, 1.0386, 1.0417, 1.0395, 1.0377, 1.0397],\n",
              "        [1.0407, 1.0416, 1.0417, 1.0370, 1.0392, 1.0423],\n",
              "        [1.0424, 1.0427, 1.0417, 1.0362, 1.0432, 1.0398]],\n",
              "       grad_fn=<SubBackward0>)"
            ]
          },
          "metadata": {},
          "execution_count": 310
        }
      ]
    },
    {
      "cell_type": "code",
      "source": [
        "import math\n",
        "from torch.nn.parameter import Parameter\n",
        " \n",
        "class My_Linear(nn.Module):\n",
        "     \n",
        "    def __init__(self, in_F, out_F):\n",
        "        super(My_Linear, self).__init__()\n",
        "        self.weight = Parameter(torch.Tensor(out_F, in_F))\n",
        "        self.bias   = Parameter(torch.Tensor(out_F))\n",
        "             \n",
        "        self.reset_parameters()\n",
        " \n",
        "    def reset_parameters(self):\n",
        "        for p in self.parameters():\n",
        "            stdv =  1.0 / math.sqrt(p.shape[0])\n",
        "            p.data.uniform_(-stdv, stdv)   \n",
        " \n",
        "    def forward(self, x):\n",
        "        return  x ** self.weight.t() - 2 * x**2 + 5 + self.bias"
      ],
      "metadata": {
        "id": "aOxrS1JJGPzw"
      },
      "execution_count": null,
      "outputs": []
    },
    {
      "cell_type": "code",
      "source": [
        "linear = My_Linear(6, 5)"
      ],
      "metadata": {
        "id": "Zyew_GUgGkQl"
      },
      "execution_count": null,
      "outputs": []
    },
    {
      "cell_type": "code",
      "source": [
        "print ('w: ', linear.weight)\n",
        "print ('b: ', linear.bias)"
      ],
      "metadata": {
        "colab": {
          "base_uri": "https://localhost:8080/"
        },
        "id": "K3QkkPxTGl3-",
        "outputId": "2e5a82a3-54bc-4804-a98b-a2ea2401d602"
      },
      "execution_count": null,
      "outputs": [
        {
          "output_type": "stream",
          "name": "stdout",
          "text": [
            "w:  Parameter containing:\n",
            "tensor([[ 0.3952,  0.1552],\n",
            "        [-0.3745, -0.1427]], requires_grad=True)\n",
            "b:  Parameter containing:\n",
            "tensor([0.4885, 0.4333], requires_grad=True)\n"
          ]
        }
      ]
    },
    {
      "cell_type": "code",
      "source": [
        "criterion = nn.MSELoss()"
      ],
      "metadata": {
        "id": "3xzBO2vuGue7"
      },
      "execution_count": null,
      "outputs": []
    },
    {
      "cell_type": "code",
      "source": [
        "optimizer = torch.optim.SGD(linear.parameters(), lr=0.01)"
      ],
      "metadata": {
        "id": "4aYMcMDCG_4U"
      },
      "execution_count": null,
      "outputs": []
    },
    {
      "cell_type": "code",
      "source": [
        "x = Variable(torch.randn(5), requires_grad = True)\n",
        "y = Variable(torch.randn(5), requires_grad = False)"
      ],
      "metadata": {
        "id": "TPFP5sZiGxVV"
      },
      "execution_count": null,
      "outputs": []
    },
    {
      "cell_type": "code",
      "source": [
        "optimizer.zero_grad()\n",
        "pred = linear(x)\n",
        "loss = criterion(pred, y)\n",
        "print('loss: ', loss.item())"
      ],
      "metadata": {
        "colab": {
          "base_uri": "https://localhost:8080/"
        },
        "id": "wivOxaDgGzjC",
        "outputId": "06a8e582-03eb-4d27-a7c4-2b36f14a5733"
      },
      "execution_count": null,
      "outputs": [
        {
          "output_type": "stream",
          "name": "stdout",
          "text": [
            "loss:  nan\n"
          ]
        },
        {
          "output_type": "stream",
          "name": "stderr",
          "text": [
            "/usr/local/lib/python3.7/dist-packages/torch/nn/modules/loss.py:520: UserWarning: Using a target size (torch.Size([5])) that is different to the input size (torch.Size([6, 5])). This will likely lead to incorrect results due to broadcasting. Please ensure they have the same size.\n",
            "  return F.mse_loss(input, target, reduction=self.reduction)\n"
          ]
        }
      ]
    },
    {
      "cell_type": "code",
      "source": [
        "print ('dL/dw: ', linear.weight.grad) \n",
        "print ('dL/db: ', linear.bias.grad)"
      ],
      "metadata": {
        "colab": {
          "base_uri": "https://localhost:8080/"
        },
        "id": "l2aRu1XTG1ie",
        "outputId": "180be159-e534-4223-84e9-0005254ed6d3"
      },
      "execution_count": null,
      "outputs": [
        {
          "output_type": "stream",
          "name": "stdout",
          "text": [
            "dL/dw:  None\n",
            "dL/db:  None\n"
          ]
        }
      ]
    },
    {
      "cell_type": "code",
      "source": [
        "loss.backward()"
      ],
      "metadata": {
        "id": "TfnFCOP4HMX9"
      },
      "execution_count": null,
      "outputs": []
    },
    {
      "cell_type": "code",
      "source": [
        "print ('dL/dw: ', linear.weight.grad) \n",
        "print ('dL/db: ', linear.bias.grad)"
      ],
      "metadata": {
        "colab": {
          "base_uri": "https://localhost:8080/"
        },
        "id": "FTcILA2CHONA",
        "outputId": "e8e451a9-0995-424e-c764-8197889503f9"
      },
      "execution_count": null,
      "outputs": [
        {
          "output_type": "stream",
          "name": "stdout",
          "text": [
            "dL/dw:  tensor([[    nan,     nan,     nan,     nan,     nan,     nan],\n",
            "        [    nan,     nan,     nan,     nan,     nan,     nan],\n",
            "        [-2.6426, -2.5144, -0.4408, -0.5291, -1.7299, -4.3311],\n",
            "        [-0.0275, -0.0255, -0.0269, -0.0260, -0.0276, -0.0271],\n",
            "        [    nan,     nan,     nan,     nan,     nan,     nan]])\n",
            "dL/db:  tensor([   nan,    nan, 2.0554, 1.8208,    nan])\n"
          ]
        }
      ]
    },
    {
      "cell_type": "code",
      "source": [
        "print ('w: ', linear.weight)\n",
        "print ('b: ', linear.bias)"
      ],
      "metadata": {
        "colab": {
          "base_uri": "https://localhost:8080/"
        },
        "id": "vk6mHKBlHQCZ",
        "outputId": "f2df56b0-8be7-4e64-af69-226a44d6accb"
      },
      "execution_count": null,
      "outputs": [
        {
          "output_type": "stream",
          "name": "stdout",
          "text": [
            "w:  Parameter containing:\n",
            "tensor([[ 0.4273,  0.3257,  0.4120,  0.2827, -0.3702,  0.2986],\n",
            "        [-0.1542, -0.0264,  0.2254, -0.1505, -0.3831, -0.1738],\n",
            "        [-0.2550, -0.2436,  0.2006,  0.1499, -0.1559, -0.3643],\n",
            "        [-0.4126,  0.3172, -0.1963,  0.1339, -0.4461, -0.2587],\n",
            "        [ 0.0511, -0.2285,  0.3618, -0.4322,  0.2126,  0.1731]],\n",
            "       requires_grad=True)\n",
            "b:  Parameter containing:\n",
            "tensor([-0.4432, -0.1088, -0.1250, -0.1516, -0.2215], requires_grad=True)\n"
          ]
        }
      ]
    },
    {
      "cell_type": "code",
      "source": [
        "optimizer.step()"
      ],
      "metadata": {
        "id": "ff6Cj5c3HS34"
      },
      "execution_count": null,
      "outputs": []
    },
    {
      "cell_type": "code",
      "source": [
        "print ('w: ', linear.weight)\n",
        "print ('b: ', linear.bias)"
      ],
      "metadata": {
        "colab": {
          "base_uri": "https://localhost:8080/"
        },
        "id": "YunZmL6iHVOi",
        "outputId": "d9e78527-72f1-477b-b95f-dcb10aea4afd"
      },
      "execution_count": null,
      "outputs": [
        {
          "output_type": "stream",
          "name": "stdout",
          "text": [
            "w:  Parameter containing:\n",
            "tensor([[ 0.4273,  0.3257,  0.4120,  0.2827, -0.3702,  0.2986],\n",
            "        [-0.1542, -0.0264,  0.2254, -0.1505, -0.3831, -0.1738],\n",
            "        [-0.2550, -0.2436,  0.2006,  0.1499, -0.1559, -0.3643],\n",
            "        [-0.4126,  0.3172, -0.1963,  0.1339, -0.4461, -0.2587],\n",
            "        [ 0.0511, -0.2285,  0.3618, -0.4322,  0.2126,  0.1731]],\n",
            "       requires_grad=True)\n",
            "b:  Parameter containing:\n",
            "tensor([-0.4432, -0.1088, -0.1250, -0.1516, -0.2215], requires_grad=True)\n"
          ]
        }
      ]
    },
    {
      "cell_type": "code",
      "source": [
        ""
      ],
      "metadata": {
        "id": "74svcX28HXBo"
      },
      "execution_count": null,
      "outputs": []
    }
  ],
  "metadata": {
    "kernelspec": {
      "display_name": "Python 3",
      "language": "python",
      "name": "python3"
    },
    "language_info": {
      "codemirror_mode": {
        "name": "ipython",
        "version": 3
      },
      "file_extension": ".py",
      "mimetype": "text/x-python",
      "name": "python",
      "nbconvert_exporter": "python",
      "pygments_lexer": "ipython3",
      "version": "3.7.4"
    },
    "colab": {
      "name": "HW_01.ipynb",
      "provenance": [],
      "collapsed_sections": []
    }
  },
  "nbformat": 4,
  "nbformat_minor": 0
}