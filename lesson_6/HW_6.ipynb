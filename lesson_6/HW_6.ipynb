{
 "cells": [
  {
   "cell_type": "markdown",
   "id": "3f46952f",
   "metadata": {},
   "source": [
    "Самостоятельно обучить классификатор текстов на примере 20newsgroups  \n",
    "На примере 20 newsgroups попробовать разные параметры для сверток для классификации текстов  "
   ]
  },
  {
   "cell_type": "code",
   "execution_count": 47,
   "id": "734a8a7b",
   "metadata": {},
   "outputs": [],
   "source": [
    "import pandas as pd\n",
    "import numpy as np\n",
    "from sklearn.datasets import fetch_20newsgroups"
   ]
  },
  {
   "cell_type": "markdown",
   "id": "74c1d01d",
   "metadata": {},
   "source": [
    "возьмем только 4 категории из 20 доступных в наборе данных"
   ]
  },
  {
   "cell_type": "code",
   "execution_count": 48,
   "id": "55f29f44",
   "metadata": {},
   "outputs": [],
   "source": [
    "categories = ['alt.atheism', 'soc.religion.christian',\n",
    "              'comp.graphics', 'sci.med']"
   ]
  },
  {
   "cell_type": "code",
   "execution_count": 49,
   "id": "615880fe",
   "metadata": {},
   "outputs": [],
   "source": [
    "train = fetch_20newsgroups(subset='train',\n",
    "   categories=categories, shuffle=True, random_state=42)"
   ]
  },
  {
   "cell_type": "code",
   "execution_count": 50,
   "id": "ae47ace9",
   "metadata": {},
   "outputs": [
    {
     "data": {
      "text/plain": [
       "['alt.atheism', 'comp.graphics', 'sci.med', 'soc.religion.christian']"
      ]
     },
     "execution_count": 50,
     "metadata": {},
     "output_type": "execute_result"
    }
   ],
   "source": [
    "train.target_names"
   ]
  },
  {
   "cell_type": "code",
   "execution_count": 51,
   "id": "e8ccf6d6",
   "metadata": {},
   "outputs": [
    {
     "name": "stdout",
     "output_type": "stream",
     "text": [
      "2257\n"
     ]
    },
    {
     "data": {
      "text/plain": [
       "2257"
      ]
     },
     "execution_count": 51,
     "metadata": {},
     "output_type": "execute_result"
    }
   ],
   "source": [
    "print(len(train.data))\n",
    "len(train.filenames)"
   ]
  },
  {
   "cell_type": "code",
   "execution_count": 52,
   "id": "bb0b6d7c",
   "metadata": {},
   "outputs": [
    {
     "name": "stdout",
     "output_type": "stream",
     "text": [
      "soc.religion.christian\n"
     ]
    },
    {
     "data": {
      "text/plain": [
       "array([1, 1, 3, 3, 3, 3, 3, 2, 2, 2], dtype=int64)"
      ]
     },
     "execution_count": 52,
     "metadata": {},
     "output_type": "execute_result"
    }
   ],
   "source": [
    "print(train.target_names[train.target[6]])\n",
    "train.target[:10]"
   ]
  },
  {
   "cell_type": "code",
   "execution_count": 53,
   "id": "bc53d371",
   "metadata": {},
   "outputs": [
    {
     "name": "stdout",
     "output_type": "stream",
     "text": [
      "comp.graphics\n",
      "comp.graphics\n",
      "soc.religion.christian\n",
      "soc.religion.christian\n",
      "soc.religion.christian\n",
      "soc.religion.christian\n",
      "soc.religion.christian\n",
      "sci.med\n",
      "sci.med\n",
      "sci.med\n"
     ]
    }
   ],
   "source": [
    "for i in train.target[:10]:\n",
    "    print(train.target_names[i])"
   ]
  },
  {
   "cell_type": "markdown",
   "id": "6208ebac",
   "metadata": {},
   "source": [
    "Выведем первые строки первого загруженного файла"
   ]
  },
  {
   "cell_type": "code",
   "execution_count": null,
   "id": "8ae4a80b",
   "metadata": {},
   "outputs": [],
   "source": []
  },
  {
   "cell_type": "code",
   "execution_count": 54,
   "id": "e53c396c",
   "metadata": {},
   "outputs": [],
   "source": [
    "columns=['data', 'target']"
   ]
  },
  {
   "cell_type": "code",
   "execution_count": 55,
   "id": "4f6d96bd",
   "metadata": {},
   "outputs": [],
   "source": [
    "df = pd.DataFrame(columns= columns)"
   ]
  },
  {
   "cell_type": "code",
   "execution_count": 56,
   "id": "cd1b2174",
   "metadata": {},
   "outputs": [],
   "source": [
    "# a = {'data': \"\\n\".join(train.data[0].split(\"\\n\")),\n",
    "#     'target': train.target[1]}\n",
    "# df = df.append(a, ignore_index=True)\n",
    "# df.iloc[0,0]"
   ]
  },
  {
   "cell_type": "code",
   "execution_count": 57,
   "id": "026605fe",
   "metadata": {},
   "outputs": [
    {
     "data": {
      "text/plain": [
       "\"From: djohnson@cs.ucsd.edu (Darin Johnson)\\nSubject: Re: harrassed at work, could use some prayers\\nOrganization: =CSE Dept., U.C. San Diego\\nLines: 63\\n\\n(Well, I'll email also, but this may apply to other people, so\\nI'll post also.)\\n\\n>I've been working at this company for eight years in various\\n>engineering jobs.  I'm female.  Yesterday I counted and realized that\\n>on seven different occasions I've been sexually harrassed at this\\n>company.\\n\\n>I dreaded coming back to work today.  What if my boss comes in to ask\\n>me some kind of question...\\n\\nYour boss should be the person bring these problems to.  If he/she\\ndoes not seem to take any action, keep going up higher and higher.\\nSexual harrassment does not need to be tolerated, and it can be an\\nenormous emotional support to discuss this with someone and know that\\nthey are trying to do something about it.  If you feel you can not\\ndiscuss this with your boss, perhaps your company has a personnel\\ndepartment that can work for you while preserving your privacy.  Most\\ncompanies will want to deal with this problem because constant anxiety\\ndoes seriously affect how effectively employees do their jobs.\\n\\nIt is unclear from your letter if you have done this or not.  It is\\nnot inconceivable that management remains ignorant of employee\\nproblems/strife even after eight years (it's a miracle if they do\\nnotice).  Perhaps your manager did not bring to the attention of\\nhigher ups?  If the company indeed does seem to want to ignore the\\nentire problem, there may be a state agency willing to fight with\\nyou.  (check with a lawyer, a women's resource center, etc to find out)\\n\\nYou may also want to discuss this with your paster, priest, husband,\\netc.  That is, someone you know will not be judgemental and that is\\nsupportive, comforting, etc.  This will bring a lot of healing.\\n\\n>So I returned at 11:25, only to find that ever single\\n>person had already left for lunch.  They left at 11:15 or so.  No one\\n>could be bothered to call me at the other building, even though my\\n>number was posted.\\n\\nThis happens to a lot of people.  Honest.  I believe it may seem\\nto be due to gross insensitivity because of the feelings you are\\ngoing through.  People in offices tend to be more insensitive while\\nworking than they normally are (maybe it's the hustle or stress or...)\\nI've had this happen to me a lot, often because they didn't realize\\nmy car was broken, etc.  Then they will come back and wonder why I\\ndidn't want to go (this would tend to make me stop being angry at\\nbeing ignored and make me laugh).  Once, we went off without our\\nboss, who was paying for the lunch :-)\\n\\n>For this\\n>reason I hope good Mr. Moderator allows me this latest indulgence.\\n\\nWell, if you can't turn to the computer for support, what would\\nwe do?  (signs of the computer age :-)\\n\\nIn closing, please don't let the hateful actions of a single person\\nharm you.  They are doing it because they are still the playground\\nbully and enjoy seeing the hurt they cause.  And you should not\\naccept the opinions of an imbecile that you are worthless - much\\nwiser people hold you in great esteem.\\n-- \\nDarin Johnson\\ndjohnson@ucsd.edu\\n  - Luxury!  In MY day, we had to make do with 5 bytes of swap...\\n\""
      ]
     },
     "execution_count": 57,
     "metadata": {},
     "output_type": "execute_result"
    }
   ],
   "source": [
    "\"\\n\".join(train.data[2].split(\"\\n\"))"
   ]
  },
  {
   "cell_type": "code",
   "execution_count": 58,
   "id": "c519bae8",
   "metadata": {},
   "outputs": [],
   "source": [
    "for i in range(len(train.data)):\n",
    "    a = {'data': \"\\n\".join(train.data[i].split(\"\\n\")),\n",
    "    'target': train.target[i]}\n",
    "    df = df.append(a, ignore_index=True)"
   ]
  },
  {
   "cell_type": "code",
   "execution_count": 59,
   "id": "fa2657d8",
   "metadata": {},
   "outputs": [
    {
     "data": {
      "text/html": [
       "<div>\n",
       "<style scoped>\n",
       "    .dataframe tbody tr th:only-of-type {\n",
       "        vertical-align: middle;\n",
       "    }\n",
       "\n",
       "    .dataframe tbody tr th {\n",
       "        vertical-align: top;\n",
       "    }\n",
       "\n",
       "    .dataframe thead th {\n",
       "        text-align: right;\n",
       "    }\n",
       "</style>\n",
       "<table border=\"1\" class=\"dataframe\">\n",
       "  <thead>\n",
       "    <tr style=\"text-align: right;\">\n",
       "      <th></th>\n",
       "      <th>data</th>\n",
       "      <th>target</th>\n",
       "    </tr>\n",
       "  </thead>\n",
       "  <tbody>\n",
       "    <tr>\n",
       "      <th>0</th>\n",
       "      <td>From: sd345@city.ac.uk (Michael Collier)\\nSubj...</td>\n",
       "      <td>1</td>\n",
       "    </tr>\n",
       "    <tr>\n",
       "      <th>1</th>\n",
       "      <td>From: ani@ms.uky.edu (Aniruddha B. Deglurkar)\\...</td>\n",
       "      <td>1</td>\n",
       "    </tr>\n",
       "    <tr>\n",
       "      <th>2</th>\n",
       "      <td>From: djohnson@cs.ucsd.edu (Darin Johnson)\\nSu...</td>\n",
       "      <td>3</td>\n",
       "    </tr>\n",
       "    <tr>\n",
       "      <th>3</th>\n",
       "      <td>From: s0612596@let.rug.nl (M.M. Zwart)\\nSubjec...</td>\n",
       "      <td>3</td>\n",
       "    </tr>\n",
       "    <tr>\n",
       "      <th>4</th>\n",
       "      <td>From: stanly@grok11.columbiasc.ncr.com (stanly...</td>\n",
       "      <td>3</td>\n",
       "    </tr>\n",
       "  </tbody>\n",
       "</table>\n",
       "</div>"
      ],
      "text/plain": [
       "                                                data target\n",
       "0  From: sd345@city.ac.uk (Michael Collier)\\nSubj...      1\n",
       "1  From: ani@ms.uky.edu (Aniruddha B. Deglurkar)\\...      1\n",
       "2  From: djohnson@cs.ucsd.edu (Darin Johnson)\\nSu...      3\n",
       "3  From: s0612596@let.rug.nl (M.M. Zwart)\\nSubjec...      3\n",
       "4  From: stanly@grok11.columbiasc.ncr.com (stanly...      3"
      ]
     },
     "execution_count": 59,
     "metadata": {},
     "output_type": "execute_result"
    }
   ],
   "source": [
    "df.head()"
   ]
  },
  {
   "cell_type": "code",
   "execution_count": 60,
   "id": "b3f104ba",
   "metadata": {},
   "outputs": [],
   "source": [
    "df = df.astype({\"target\": np.int64})"
   ]
  },
  {
   "cell_type": "code",
   "execution_count": 61,
   "id": "53b72597",
   "metadata": {},
   "outputs": [
    {
     "name": "stdout",
     "output_type": "stream",
     "text": [
      "<class 'pandas.core.frame.DataFrame'>\n",
      "RangeIndex: 2257 entries, 0 to 2256\n",
      "Data columns (total 2 columns):\n",
      " #   Column  Non-Null Count  Dtype \n",
      "---  ------  --------------  ----- \n",
      " 0   data    2257 non-null   object\n",
      " 1   target  2257 non-null   int64 \n",
      "dtypes: int64(1), object(1)\n",
      "memory usage: 35.4+ KB\n"
     ]
    }
   ],
   "source": [
    "df.info()"
   ]
  },
  {
   "cell_type": "code",
   "execution_count": 62,
   "id": "0a0b5a5d",
   "metadata": {},
   "outputs": [],
   "source": [
    "from string import punctuation\n",
    "from stop_words import get_stop_words\n",
    "from pymorphy2 import MorphAnalyzer\n",
    "import re"
   ]
  },
  {
   "cell_type": "code",
   "execution_count": 63,
   "id": "5fe9ca28",
   "metadata": {},
   "outputs": [],
   "source": [
    "sw = set(get_stop_words(\"en\"))\n",
    "exclude = set(punctuation)\n",
    "morpher = MorphAnalyzer()\n",
    "\n",
    "def preprocess_text(txt):\n",
    "    txt = str(txt)\n",
    "    txt = \"\".join(c for c in txt if c not in exclude)\n",
    "    txt = txt.lower()\n",
    "    txt = re.sub(\"not\\s*\", \"not\", txt)\n",
    "    txt = [morpher.parse(word)[0].normal_form for word in txt.split() if word not in sw]\n",
    "    return \" \".join(txt)\n",
    "\n",
    "df['data'] = df.data.apply(preprocess_text)\n",
    "# df_val['text'] = df_val['text'].apply(preprocess_text)\n",
    "# df_test['text'] = df_test['text'].apply(preprocess_text)"
   ]
  },
  {
   "cell_type": "code",
   "execution_count": 64,
   "id": "dc2eb946",
   "metadata": {},
   "outputs": [],
   "source": [
    "dfn = df.head(5)"
   ]
  },
  {
   "cell_type": "code",
   "execution_count": 65,
   "id": "f30bf574",
   "metadata": {},
   "outputs": [],
   "source": [
    "num = []"
   ]
  },
  {
   "cell_type": "code",
   "execution_count": 66,
   "id": "243227d5",
   "metadata": {},
   "outputs": [
    {
     "name": "stdout",
     "output_type": "stream",
     "text": [
      "43693\n"
     ]
    }
   ],
   "source": [
    "for i in df['data']:\n",
    "#     print(i, '\\n')\n",
    "    num.append(len(i))\n",
    "\n",
    "print(max(num))"
   ]
  },
  {
   "cell_type": "code",
   "execution_count": 67,
   "id": "ef9710b9",
   "metadata": {},
   "outputs": [
    {
     "name": "stdout",
     "output_type": "stream",
     "text": [
      "1354 451\n"
     ]
    }
   ],
   "source": [
    "tr = int(len(train.data)* 0.6)\n",
    "tv = int(len(train.data)* 0.2)\n",
    "print(tr, tv)"
   ]
  },
  {
   "cell_type": "code",
   "execution_count": 68,
   "id": "eb51ccb4",
   "metadata": {},
   "outputs": [
    {
     "data": {
      "text/plain": [
       "array([1, 3, 2, 0], dtype=int64)"
      ]
     },
     "execution_count": 68,
     "metadata": {},
     "output_type": "execute_result"
    }
   ],
   "source": [
    "df['target'].unique()"
   ]
  },
  {
   "cell_type": "code",
   "execution_count": 69,
   "id": "2018c86e",
   "metadata": {},
   "outputs": [
    {
     "name": "stdout",
     "output_type": "stream",
     "text": [
      "(1355, 2)\n",
      "(452, 2)\n",
      "(452, 2)\n"
     ]
    }
   ],
   "source": [
    "df_train = df.loc[:tr]\n",
    "df_test = df.loc[tr:tv+tr]\n",
    "df_val = df.loc[tv+tr:]\n",
    "\n",
    "print(df_train.shape)\n",
    "print(df_test.shape)\n",
    "print(df_val.shape)\n"
   ]
  },
  {
   "cell_type": "code",
   "execution_count": 70,
   "id": "730c3aca",
   "metadata": {},
   "outputs": [],
   "source": [
    "train_corpus = \" \".join(df_train[\"data\"])\n",
    "train_corpus = train_corpus.lower()"
   ]
  },
  {
   "cell_type": "code",
   "execution_count": 71,
   "id": "230f3240",
   "metadata": {},
   "outputs": [
    {
     "name": "stderr",
     "output_type": "stream",
     "text": [
      "[nltk_data] Downloading package punkt to\n",
      "[nltk_data]     C:\\Users\\VoronkovSergey\\AppData\\Roaming\\nltk_data...\n",
      "[nltk_data]   Package punkt is already up-to-date!\n"
     ]
    }
   ],
   "source": [
    "import nltk\n",
    "from nltk.tokenize import word_tokenize\n",
    "nltk.download(\"punkt\")\n",
    "\n",
    "tokens = word_tokenize(train_corpus)"
   ]
  },
  {
   "cell_type": "code",
   "execution_count": 72,
   "id": "8ccd6d3d",
   "metadata": {},
   "outputs": [],
   "source": [
    "tokens_filtered = [word for word in tokens if word.isalnum()]"
   ]
  },
  {
   "cell_type": "code",
   "execution_count": 92,
   "id": "dc78eb15",
   "metadata": {},
   "outputs": [],
   "source": [
    "max_words = 2000\n",
    "max_len = 4000\n",
    "num_classes = 4\n",
    "\n"
   ]
  },
  {
   "cell_type": "code",
   "execution_count": 93,
   "id": "341a4d72",
   "metadata": {},
   "outputs": [],
   "source": [
    "from nltk.probability import FreqDist\n",
    "dist = FreqDist(tokens_filtered)\n",
    "tokens_filtered_top = [pair[0] for pair in dist.most_common(max_words-1)]"
   ]
  },
  {
   "cell_type": "code",
   "execution_count": 94,
   "id": "f9f754ae",
   "metadata": {},
   "outputs": [
    {
     "data": {
      "text/plain": [
       "['071',\n",
       " 'sd345cityacuk',\n",
       " 'subject',\n",
       " 'images',\n",
       " 'nntppostinghost',\n",
       " 'hampton',\n",
       " 'organization',\n",
       " 'lines',\n",
       " '14',\n",
       " 'anyone',\n",
       " 'know',\n",
       " 'good',\n",
       " 'way',\n",
       " 'standard',\n",
       " 'pc',\n",
       " 'applicationpd',\n",
       " 'utility',\n",
       " 'convert',\n",
       " 'tifimgtga',\n",
       " 'format',\n",
       " 'also',\n",
       " 'like',\n",
       " 'hpgl',\n",
       " 'plotter',\n",
       " 'please',\n",
       " 'response',\n",
       " 'correct',\n",
       " 'group',\n",
       " 'thanks',\n",
       " 'advance',\n",
       " 'programmer',\n",
       " 'computer',\n",
       " 'unit',\n",
       " 'mpcollierukaccity',\n",
       " 'tel',\n",
       " '4778000',\n",
       " 'x3769',\n",
       " 'london',\n",
       " 'fax',\n",
       " '4778565',\n",
       " 'ec1v',\n",
       " '0hb']"
      ]
     },
     "execution_count": 94,
     "metadata": {},
     "output_type": "execute_result"
    }
   ],
   "source": [
    "tokens_filtered_top[10:]"
   ]
  },
  {
   "cell_type": "code",
   "execution_count": 95,
   "id": "781d1160",
   "metadata": {},
   "outputs": [],
   "source": [
    "vocabulary = {v: k for k, v in dict(enumerate(tokens_filtered_top, 1)).items()}"
   ]
  },
  {
   "cell_type": "code",
   "execution_count": 96,
   "id": "c286734a",
   "metadata": {},
   "outputs": [],
   "source": [
    "import numpy as np\n",
    "def text_to_sequence(text, maxlen):\n",
    "    result = []\n",
    "    tokens = word_tokenize(text.lower())\n",
    "    tokens_filtered = [word for word in tokens if word.isalnum()]\n",
    "    for word in tokens_filtered:\n",
    "        if word in vocabulary:\n",
    "            result.append(vocabulary[word])\n",
    "    padding = [0]*(maxlen-len(result))\n",
    "    return padding + result[-maxlen:]"
   ]
  },
  {
   "cell_type": "code",
   "execution_count": 97,
   "id": "e75cea17",
   "metadata": {},
   "outputs": [],
   "source": [
    "tokens = word_tokenize(df_train[\"data\"][0].lower())"
   ]
  },
  {
   "cell_type": "code",
   "execution_count": 98,
   "id": "b02c2da1",
   "metadata": {},
   "outputs": [],
   "source": [
    "tokens_filtered = [word for word in tokens if word.isalnum()]"
   ]
  },
  {
   "cell_type": "code",
   "execution_count": 99,
   "id": "6f929c85",
   "metadata": {},
   "outputs": [
    {
     "data": {
      "text/plain": [
       "['sd345cityacuk', 'michael', 'collier', 'subject', 'converting']"
      ]
     },
     "execution_count": 99,
     "metadata": {},
     "output_type": "execute_result"
    }
   ],
   "source": [
    "tokens_filtered[:5]"
   ]
  },
  {
   "cell_type": "code",
   "execution_count": 100,
   "id": "d71152d5",
   "metadata": {},
   "outputs": [],
   "source": [
    "result = []"
   ]
  },
  {
   "cell_type": "code",
   "execution_count": 101,
   "id": "67449b93",
   "metadata": {},
   "outputs": [],
   "source": [
    "x_train = np.asarray([text_to_sequence(text, max_len) for text in df_train[\"data\"]], dtype=np.int32)\n",
    "x_test = np.asarray([text_to_sequence(text, max_len) for text in df_test[\"data\"]], dtype=np.int32)\n",
    "x_val = np.asarray([text_to_sequence(text, max_len) for text in df_val[\"data\"]], dtype=np.int32)"
   ]
  },
  {
   "cell_type": "code",
   "execution_count": 102,
   "id": "3205057a",
   "metadata": {},
   "outputs": [],
   "source": [
    "import random\n",
    "import torch\n",
    "import torch.nn as nn\n",
    "\n",
    "seed = 0\n",
    "\n",
    "random.seed(seed)\n",
    "np.random.seed(seed)\n",
    "torch.manual_seed(seed)\n",
    "torch.cuda.manual_seed(seed)\n",
    "torch.backends.cudnn.deterministic = True"
   ]
  },
  {
   "cell_type": "code",
   "execution_count": 103,
   "id": "32cf757e",
   "metadata": {},
   "outputs": [],
   "source": [
    "from torch.utils.data import DataLoader, Dataset\n",
    "\n",
    "class DataWrapper(Dataset):\n",
    "    def __init__(self, data, target=None, transform=None):\n",
    "        self.data = torch.from_numpy(data).long()\n",
    "        if target is not None:\n",
    "            self.target = torch.from_numpy(target).long()\n",
    "        self.transform = transform\n",
    "        \n",
    "    def __getitem__(self, index):\n",
    "        x = self.data[index]\n",
    "        y = self.target[index] if self.target is not None else None\n",
    "        \n",
    "        if self.transform:\n",
    "            x = self.transform(x)\n",
    "            \n",
    "        return x, y\n",
    "    \n",
    "    def __len__(self):\n",
    "        return len(self.data)"
   ]
  },
  {
   "cell_type": "code",
   "execution_count": 104,
   "id": "04fc0fb3",
   "metadata": {},
   "outputs": [],
   "source": [
    "class Net(nn.Module):\n",
    "    def __init__(self, vocab_size=20, embedding_dim = 128, out_channel = 128, num_classes = 1):\n",
    "        super().__init__()\n",
    "        self.embedding = nn.Embedding(vocab_size, embedding_dim)\n",
    "        self.conv = nn.Conv1d(embedding_dim, out_channel, kernel_size=3)\n",
    "        self.relu = nn.ReLU()\n",
    "        self.linear = nn.Linear(out_channel, num_classes)\n",
    "        \n",
    "    def forward(self, x):        \n",
    "        output = self.embedding(x)\n",
    "        #                       B  F  L         \n",
    "        output = output.permute(0, 2, 1)\n",
    "        output = self.conv(output)\n",
    "        output = self.relu(output)\n",
    "        output = torch.max(output, axis=2).values\n",
    "#         print(output.shape)\n",
    "        output = self.linear(output)\n",
    "#         print(output.shape)\n",
    "        \n",
    "        return output"
   ]
  },
  {
   "cell_type": "code",
   "execution_count": 105,
   "id": "aa79486b",
   "metadata": {},
   "outputs": [],
   "source": [
    "# result_loss = pd.DataFrame(columns= ['epochs', 'batch', 'lr','optimizer' , 'criterion', 'loss'])\n",
    "# result_loss"
   ]
  },
  {
   "cell_type": "code",
   "execution_count": 132,
   "id": "82532c5a",
   "metadata": {},
   "outputs": [
    {
     "name": "stdout",
     "output_type": "stream",
     "text": [
      "Net(\n",
      "  (embedding): Embedding(2000, 128)\n",
      "  (conv): Conv1d(128, 128, kernel_size=(3,), stride=(1,))\n",
      "  (relu): ReLU()\n",
      "  (linear): Linear(in_features=128, out_features=1, bias=True)\n",
      ")\n",
      "Parameters: 305409\n"
     ]
    }
   ],
   "source": [
    "model = Net(vocab_size=max_words)\n",
    "\n",
    "print(model)\n",
    "print(\"Parameters:\", sum([param.nelement() for param in model.parameters()]))\n",
    "\n",
    "# Training\n",
    "epochs = 10\n",
    "batch_size = 128\n",
    "print_batch_n = 100\n",
    "learning_rate = 0.001\n",
    "criterion = nn.BCEWithLogitsLoss()\n",
    "# criterion = nn.CrossEntropyLoss()\n",
    "# optimizer = torch.optim.SGD(model.parameters(), lr=learning_rate, momentum=0.9)\n",
    "optimizer = torch.optim.Adam(model.parameters(), lr=learning_rate)\n",
    "\n",
    "opt = str(optimizer).split()[0]"
   ]
  },
  {
   "cell_type": "code",
   "execution_count": 133,
   "id": "8132e0c0",
   "metadata": {},
   "outputs": [
    {
     "name": "stdout",
     "output_type": "stream",
     "text": [
      "Train epoch 1/10\n",
      "Step 0: loss=2.337507963180542\n",
      "Train epoch 2/10\n",
      "Step 0: loss=-5.361674785614014\n",
      "Train epoch 3/10\n",
      "Step 0: loss=-10.034090042114258\n",
      "Train epoch 4/10\n",
      "Step 0: loss=-17.586673736572266\n",
      "Train epoch 5/10\n",
      "Step 0: loss=-35.064857482910156\n",
      "Train epoch 6/10\n",
      "Step 0: loss=-49.338539123535156\n",
      "Train epoch 7/10\n",
      "Step 0: loss=-64.16010284423828\n",
      "Train epoch 8/10\n",
      "Step 0: loss=-90.03060913085938\n",
      "Train epoch 9/10\n",
      "Step 0: loss=-155.832275390625\n",
      "Train epoch 10/10\n",
      "Step 0: loss=-152.12391662597656\n"
     ]
    }
   ],
   "source": [
    "\n",
    "\n",
    "model.train()\n",
    "#model = model.cuda()\n",
    "\n",
    "# optimizer = torch.optim.Adam(model.parameters(), lr=learning_rate)\n",
    "optimizer = optimizer\n",
    "criterion = criterion\n",
    "\n",
    "\n",
    "\n",
    "    \n",
    "train_dataset = DataWrapper(x_train, df_train['target'].values)\n",
    "train_loader = DataLoader(train_dataset, batch_size=batch_size, shuffle=True,drop_last=True)\n",
    "\n",
    "val_dataset = DataWrapper(x_val, df_val['target'].values)\n",
    "val_loader = DataLoader(val_dataset, batch_size=batch_size, shuffle=True,drop_last=True)\n",
    "\n",
    "loss_history = []\n",
    "\n",
    "for epoch in range(1, epochs + 1):\n",
    "    print(f\"Train epoch {epoch}/{epochs}\")\n",
    "    for i, (data, target) in enumerate(train_loader):\n",
    "        optimizer.zero_grad()\n",
    "        \n",
    "        # data = data.cuda()\n",
    "        # target = target.cuda()\n",
    "        \n",
    "        # compute output\n",
    "        output = model(data)\n",
    "        \n",
    "        # compute gradient and do SGD step\n",
    "#         print(target.float().view(-1, 1))\n",
    "        loss = criterion(output, target.float().view(-1, 1))\n",
    "        loss.backward()\n",
    "        \n",
    "        optimizer.step()\n",
    "        \n",
    "        if i%print_batch_n == 0:\n",
    "            loss = loss.float().item()\n",
    "            print(\"Step {}: loss={}\".format(i, loss))\n",
    "            loss_history.append(loss)\n",
    "            result_loss = result_loss.append({'epochs': epochs, 'batch': batch_size,'optimizer': opt ,'criterion': criterion,\n",
    "                                              'lr': learning_rate, 'loss': loss},\n",
    "                                              ignore_index= True)"
   ]
  },
  {
   "cell_type": "code",
   "execution_count": 135,
   "id": "c477b87d",
   "metadata": {},
   "outputs": [
    {
     "name": "stdout",
     "output_type": "stream",
     "text": [
      "Populating the interactive namespace from numpy and matplotlib\n"
     ]
    },
    {
     "data": {
      "image/png": "[encoded data removed]",
      "text/plain": [
       "<Figure size 432x288 with 1 Axes>"
      ]
     },
     "metadata": {
      "needs_background": "light"
     },
     "output_type": "display_data"
    }
   ],
   "source": [
    "import matplotlib.pyplot as plt\n",
    "%pylab inline\n",
    "plt.title('Loss history')\n",
    "plt.grid(True)\n",
    "plt.ylabel('Train loss')\n",
    "plt.xlabel('Step')\n",
    "plt.plot(loss_history);"
   ]
  },
  {
   "cell_type": "code",
   "execution_count": 136,
   "id": "8509f596",
   "metadata": {},
   "outputs": [
    {
     "data": {
      "text/plain": [
       "(40, 6)"
      ]
     },
     "execution_count": 136,
     "metadata": {},
     "output_type": "execute_result"
    }
   ],
   "source": [
    "result_loss.shape"
   ]
  },
  {
   "cell_type": "code",
   "execution_count": 137,
   "id": "e76f4a53",
   "metadata": {},
   "outputs": [],
   "source": [
    "result_loss.to_csv('loss.csv')"
   ]
  },
  {
   "cell_type": "code",
   "execution_count": 138,
   "id": "a5efa2af",
   "metadata": {},
   "outputs": [],
   "source": [
    "result_loss = pd.read_csv('loss.csv', index_col=0)"
   ]
  },
  {
   "cell_type": "code",
   "execution_count": 139,
   "id": "4ba73ffe",
   "metadata": {},
   "outputs": [
    {
     "name": "stdout",
     "output_type": "stream",
     "text": [
      "    epochs  batch     lr optimizer            criterion          loss\n",
      "0       10    128  0.010      Adam  BCEWithLogitsLoss()  8.954821e-01\n",
      "1       10    128  0.010      Adam  BCEWithLogitsLoss() -1.450427e+02\n",
      "2       10    128  0.010      Adam  BCEWithLogitsLoss() -7.637862e+02\n",
      "3       10    128  0.010      Adam  BCEWithLogitsLoss() -2.201274e+03\n",
      "4       10    128  0.010      Adam  BCEWithLogitsLoss() -3.925404e+03\n",
      "5       10    128  0.010      Adam  BCEWithLogitsLoss() -9.787680e+03\n",
      "6       10    128  0.010      Adam  BCEWithLogitsLoss() -1.813418e+04\n",
      "7       10    128  0.010      Adam  BCEWithLogitsLoss() -3.093842e+04\n",
      "8       10    128  0.010      Adam  BCEWithLogitsLoss() -3.722721e+04\n",
      "9       10    128  0.010      Adam  BCEWithLogitsLoss() -5.718064e+04\n",
      "10      10    512  0.100       SGD  BCEWithLogitsLoss()  4.467733e-01\n",
      "11      10    512  0.100       SGD  BCEWithLogitsLoss() -4.771332e+01\n",
      "12      10    512  0.100       SGD  BCEWithLogitsLoss() -2.826782e+03\n",
      "13      10    512  0.100       SGD  BCEWithLogitsLoss() -3.534390e+06\n",
      "14      10    512  0.100       SGD  BCEWithLogitsLoss() -2.220668e+17\n",
      "15      10    512  0.100       SGD  BCEWithLogitsLoss()           NaN\n",
      "16      10    512  0.100       SGD  BCEWithLogitsLoss()           NaN\n",
      "17      10    512  0.100       SGD  BCEWithLogitsLoss()           NaN\n",
      "18      10    512  0.100       SGD  BCEWithLogitsLoss()           NaN\n",
      "19      10    512  0.100       SGD  BCEWithLogitsLoss()           NaN\n",
      "20      10    512  0.010       SGD  BCEWithLogitsLoss()  9.541477e-01\n",
      "21      10    512  0.010       SGD  BCEWithLogitsLoss() -2.293588e+00\n",
      "22      10    512  0.010       SGD  BCEWithLogitsLoss() -7.309615e+00\n",
      "23      10    512  0.010       SGD  BCEWithLogitsLoss() -2.168841e+01\n",
      "24      10    512  0.010       SGD  BCEWithLogitsLoss() -6.925711e+01\n",
      "25      10    512  0.010       SGD  BCEWithLogitsLoss() -2.354380e+02\n",
      "26      10    512  0.010       SGD  BCEWithLogitsLoss() -7.313280e+02\n",
      "27      10    512  0.010       SGD  BCEWithLogitsLoss() -2.488165e+03\n",
      "28      10    512  0.010       SGD  BCEWithLogitsLoss() -1.128388e+04\n",
      "29      10    512  0.010       SGD  BCEWithLogitsLoss() -1.067501e+05\n",
      "30      10    128  0.001      Adam  BCEWithLogitsLoss()  2.337508e+00\n",
      "31      10    128  0.001      Adam  BCEWithLogitsLoss() -5.361675e+00\n",
      "32      10    128  0.001      Adam  BCEWithLogitsLoss() -1.003409e+01\n",
      "33      10    128  0.001      Adam  BCEWithLogitsLoss() -1.758667e+01\n",
      "34      10    128  0.001      Adam  BCEWithLogitsLoss() -3.506486e+01\n",
      "35      10    128  0.001      Adam  BCEWithLogitsLoss() -4.933854e+01\n",
      "36      10    128  0.001      Adam  BCEWithLogitsLoss() -6.416010e+01\n",
      "37      10    128  0.001      Adam  BCEWithLogitsLoss() -9.003061e+01\n",
      "38      10    128  0.001      Adam  BCEWithLogitsLoss() -1.558323e+02\n",
      "39      10    128  0.001      Adam  BCEWithLogitsLoss() -1.521239e+02\n"
     ]
    }
   ],
   "source": [
    "print(result_loss.head(60))"
   ]
  },
  {
   "cell_type": "code",
   "execution_count": 140,
   "id": "b03e990e",
   "metadata": {},
   "outputs": [
    {
     "data": {
      "text/html": [
       "<div>\n",
       "<style scoped>\n",
       "    .dataframe tbody tr th:only-of-type {\n",
       "        vertical-align: middle;\n",
       "    }\n",
       "\n",
       "    .dataframe tbody tr th {\n",
       "        vertical-align: top;\n",
       "    }\n",
       "\n",
       "    .dataframe thead th {\n",
       "        text-align: right;\n",
       "    }\n",
       "</style>\n",
       "<table border=\"1\" class=\"dataframe\">\n",
       "  <thead>\n",
       "    <tr style=\"text-align: right;\">\n",
       "      <th></th>\n",
       "      <th>epochs</th>\n",
       "      <th>batch</th>\n",
       "      <th>lr</th>\n",
       "      <th>optimizer</th>\n",
       "      <th>criterion</th>\n",
       "      <th>loss</th>\n",
       "    </tr>\n",
       "  </thead>\n",
       "  <tbody>\n",
       "    <tr>\n",
       "      <th>0</th>\n",
       "      <td>10</td>\n",
       "      <td>128</td>\n",
       "      <td>0.001</td>\n",
       "      <td>Adam</td>\n",
       "      <td>BCEWithLogitsLoss()</td>\n",
       "      <td>2.337508</td>\n",
       "    </tr>\n",
       "    <tr>\n",
       "      <th>1</th>\n",
       "      <td>10</td>\n",
       "      <td>128</td>\n",
       "      <td>0.001</td>\n",
       "      <td>Adam</td>\n",
       "      <td>BCEWithLogitsLoss()</td>\n",
       "      <td>-5.361675</td>\n",
       "    </tr>\n",
       "    <tr>\n",
       "      <th>2</th>\n",
       "      <td>10</td>\n",
       "      <td>128</td>\n",
       "      <td>0.001</td>\n",
       "      <td>Adam</td>\n",
       "      <td>BCEWithLogitsLoss()</td>\n",
       "      <td>-10.034090</td>\n",
       "    </tr>\n",
       "    <tr>\n",
       "      <th>3</th>\n",
       "      <td>10</td>\n",
       "      <td>128</td>\n",
       "      <td>0.001</td>\n",
       "      <td>Adam</td>\n",
       "      <td>BCEWithLogitsLoss()</td>\n",
       "      <td>-17.586674</td>\n",
       "    </tr>\n",
       "    <tr>\n",
       "      <th>4</th>\n",
       "      <td>10</td>\n",
       "      <td>128</td>\n",
       "      <td>0.001</td>\n",
       "      <td>Adam</td>\n",
       "      <td>BCEWithLogitsLoss()</td>\n",
       "      <td>-35.064857</td>\n",
       "    </tr>\n",
       "    <tr>\n",
       "      <th>5</th>\n",
       "      <td>10</td>\n",
       "      <td>128</td>\n",
       "      <td>0.001</td>\n",
       "      <td>Adam</td>\n",
       "      <td>BCEWithLogitsLoss()</td>\n",
       "      <td>-49.338539</td>\n",
       "    </tr>\n",
       "    <tr>\n",
       "      <th>6</th>\n",
       "      <td>10</td>\n",
       "      <td>128</td>\n",
       "      <td>0.001</td>\n",
       "      <td>Adam</td>\n",
       "      <td>BCEWithLogitsLoss()</td>\n",
       "      <td>-64.160103</td>\n",
       "    </tr>\n",
       "    <tr>\n",
       "      <th>7</th>\n",
       "      <td>10</td>\n",
       "      <td>128</td>\n",
       "      <td>0.001</td>\n",
       "      <td>Adam</td>\n",
       "      <td>BCEWithLogitsLoss()</td>\n",
       "      <td>-90.030609</td>\n",
       "    </tr>\n",
       "    <tr>\n",
       "      <th>8</th>\n",
       "      <td>10</td>\n",
       "      <td>128</td>\n",
       "      <td>0.001</td>\n",
       "      <td>Adam</td>\n",
       "      <td>BCEWithLogitsLoss()</td>\n",
       "      <td>-155.832275</td>\n",
       "    </tr>\n",
       "    <tr>\n",
       "      <th>9</th>\n",
       "      <td>10</td>\n",
       "      <td>128</td>\n",
       "      <td>0.001</td>\n",
       "      <td>Adam</td>\n",
       "      <td>BCEWithLogitsLoss()</td>\n",
       "      <td>-152.123917</td>\n",
       "    </tr>\n",
       "  </tbody>\n",
       "</table>\n",
       "</div>"
      ],
      "text/plain": [
       "   epochs  batch     lr optimizer            criterion        loss\n",
       "0      10    128  0.001      Adam  BCEWithLogitsLoss()    2.337508\n",
       "1      10    128  0.001      Adam  BCEWithLogitsLoss()   -5.361675\n",
       "2      10    128  0.001      Adam  BCEWithLogitsLoss()  -10.034090\n",
       "3      10    128  0.001      Adam  BCEWithLogitsLoss()  -17.586674\n",
       "4      10    128  0.001      Adam  BCEWithLogitsLoss()  -35.064857\n",
       "5      10    128  0.001      Adam  BCEWithLogitsLoss()  -49.338539\n",
       "6      10    128  0.001      Adam  BCEWithLogitsLoss()  -64.160103\n",
       "7      10    128  0.001      Adam  BCEWithLogitsLoss()  -90.030609\n",
       "8      10    128  0.001      Adam  BCEWithLogitsLoss() -155.832275\n",
       "9      10    128  0.001      Adam  BCEWithLogitsLoss() -152.123917"
      ]
     },
     "execution_count": 140,
     "metadata": {},
     "output_type": "execute_result"
    }
   ],
   "source": [
    "loss_1 = result_loss.head(10)\n",
    "loss_2 = result_loss.iloc[10:20]\n",
    "loss_2 = loss_2.reset_index(drop=True)\n",
    "loss_3 = result_loss.iloc[20:30]\n",
    "loss_3 = loss_3.reset_index(drop=True)\n",
    "loss_4 = result_loss.iloc[30:40]\n",
    "loss_4 = loss_4.reset_index(drop=True)\n",
    "loss_4.head(20)"
   ]
  },
  {
   "cell_type": "code",
   "execution_count": 141,
   "id": "21fbfc2c",
   "metadata": {},
   "outputs": [
    {
     "name": "stdout",
     "output_type": "stream",
     "text": [
      "Populating the interactive namespace from numpy and matplotlib\n"
     ]
    },
    {
     "data": {
      "image/png": "[encoded data removed]",
      "text/plain": [
       "<Figure size 432x288 with 1 Axes>"
      ]
     },
     "metadata": {
      "needs_background": "light"
     },
     "output_type": "display_data"
    }
   ],
   "source": [
    "import matplotlib.pyplot as plt\n",
    "%pylab inline\n",
    "plt.title('Loss history')\n",
    "plt.grid(True)\n",
    "plt.ylabel('Train loss')\n",
    "plt.xlabel('Step')\n",
    "plt.plot(loss_1['loss']);"
   ]
  },
  {
   "cell_type": "code",
   "execution_count": 142,
   "id": "c614508f",
   "metadata": {},
   "outputs": [
    {
     "name": "stdout",
     "output_type": "stream",
     "text": [
      "Populating the interactive namespace from numpy and matplotlib\n"
     ]
    },
    {
     "data": {
      "image/png": "[encoded data removed]",
      "text/plain": [
       "<Figure size 432x288 with 1 Axes>"
      ]
     },
     "metadata": {
      "needs_background": "light"
     },
     "output_type": "display_data"
    }
   ],
   "source": [
    "import matplotlib.pyplot as plt\n",
    "%pylab inline\n",
    "plt.title('Loss history')\n",
    "plt.grid(True)\n",
    "plt.ylabel('Train loss')\n",
    "plt.xlabel('Step')\n",
    "plt.plot(loss_2['loss']);"
   ]
  },
  {
   "cell_type": "code",
   "execution_count": 143,
   "id": "650f3c70",
   "metadata": {},
   "outputs": [
    {
     "name": "stdout",
     "output_type": "stream",
     "text": [
      "Populating the interactive namespace from numpy and matplotlib\n"
     ]
    },
    {
     "data": {
      "image/png": "[encoded data removed]",
      "text/plain": [
       "<Figure size 432x288 with 1 Axes>"
      ]
     },
     "metadata": {
      "needs_background": "light"
     },
     "output_type": "display_data"
    }
   ],
   "source": [
    "import matplotlib.pyplot as plt\n",
    "%pylab inline\n",
    "plt.title('Loss history')\n",
    "plt.grid(True)\n",
    "plt.ylabel('Train loss')\n",
    "plt.xlabel('Step')\n",
    "plt.plot(loss_3['loss']);"
   ]
  },
  {
   "cell_type": "code",
   "execution_count": 144,
   "id": "d2415a55",
   "metadata": {},
   "outputs": [
    {
     "name": "stdout",
     "output_type": "stream",
     "text": [
      "Populating the interactive namespace from numpy and matplotlib\n"
     ]
    },
    {
     "data": {
      "image/png": "[encoded data removed]",
      "text/plain": [
       "<Figure size 432x288 with 1 Axes>"
      ]
     },
     "metadata": {
      "needs_background": "light"
     },
     "output_type": "display_data"
    }
   ],
   "source": [
    "import matplotlib.pyplot as plt\n",
    "%pylab inline\n",
    "plt.title('Loss history')\n",
    "plt.grid(True)\n",
    "plt.ylabel('Train loss')\n",
    "plt.xlabel('Step')\n",
    "plt.plot(loss_4['loss']);"
   ]
  },
  {
   "cell_type": "code",
   "execution_count": null,
   "id": "55deb8bf",
   "metadata": {},
   "outputs": [],
   "source": []
  }
 ],
 "metadata": {
  "kernelspec": {
   "display_name": "Python 3 (ipykernel)",
   "language": "python",
   "name": "python3"
  },
  "language_info": {
   "codemirror_mode": {
    "name": "ipython",
    "version": 3
   },
   "file_extension": ".py",
   "mimetype": "text/x-python",
   "name": "python",
   "nbconvert_exporter": "python",
   "pygments_lexer": "ipython3",
   "version": "3.7.9"
  }
 },
 "nbformat": 4,
 "nbformat_minor": 5
}
